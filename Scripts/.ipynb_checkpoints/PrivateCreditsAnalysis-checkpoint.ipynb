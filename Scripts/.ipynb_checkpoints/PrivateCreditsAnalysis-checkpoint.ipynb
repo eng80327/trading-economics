{
 "cells": [
  {
   "cell_type": "markdown",
   "id": "a03fb746-7923-4b48-9c12-bb874527eb4a",
   "metadata": {},
   "source": [
    "# Private Credit and Stock Markets"
   ]
  },
  {
   "cell_type": "code",
   "execution_count": 1,
   "id": "ee7a6dc6-0271-4a66-b2ac-f363fd5f929b",
   "metadata": {},
   "outputs": [],
   "source": [
    "import pandas as pd\n",
    "import matplotlib.pyplot as plt"
   ]
  },
  {
   "cell_type": "markdown",
   "id": "3c3a6736-5354-4bc3-8090-2280229dc9e1",
   "metadata": {},
   "source": [
    "![](PrivateCredit.png)"
   ]
  },
  {
   "cell_type": "raw",
   "id": "f034d9f7-1468-490a-b0d0-4ffd54f00f71",
   "metadata": {},
   "source": []
  },
  {
   "cell_type": "code",
   "execution_count": null,
   "id": "a76db7c3-5a2c-4a35-8ec9-564af3c1f32f",
   "metadata": {},
   "outputs": [],
   "source": []
  },
  {
   "cell_type": "raw",
   "id": "f6cb3466-a630-4060-8e02-5a57a92b8857",
   "metadata": {},
   "source": []
  },
  {
   "cell_type": "raw",
   "id": "874df64b-0866-41d8-8a6c-41bec4973cbe",
   "metadata": {},
   "source": []
  }
 ],
 "metadata": {
  "kernelspec": {
   "display_name": "Python 3 (ipykernel)",
   "language": "python",
   "name": "python3"
  },
  "language_info": {
   "codemirror_mode": {
    "name": "ipython",
    "version": 3
   },
   "file_extension": ".py",
   "mimetype": "text/x-python",
   "name": "python",
   "nbconvert_exporter": "python",
   "pygments_lexer": "ipython3",
   "version": "3.10.9"
  }
 },
 "nbformat": 4,
 "nbformat_minor": 5
}
